{
 "cells": [
  {
   "cell_type": "markdown",
   "id": "d1d166b2",
   "metadata": {},
   "source": [
    "## SPEECH TO TEXT AND LANGUAGE TRANSLATION USING IBM WATSON APIs"
   ]
  },
  {
   "cell_type": "markdown",
   "id": "20a7c500",
   "metadata": {},
   "source": [
    "## Objectives\n",
    "\n",
    "Step by stem guide for:\n",
    "\n",
    "-   Creating Speech to Text Translator\n",
    "-   Language translator \n",
    "\n",
    "using IBM watson_watson \n",
    "\n",
    "NB: This file was developed using Jupyter notebook"
   ]
  },
  {
   "cell_type": "markdown",
   "id": "9871c878",
   "metadata": {},
   "source": [
    "### Introduction\n",
    "\n",
    "<p>We would be converting an audio file of an Japanese speaker to text using a Speech to Text API. Then We would translate the English version to a French, Spanish and Japanese version using a Language Translator API. <b>Note:</b>NB: we need to obtain the API keys and enpoints to complete this task.</p>"
   ]
  },
  {
   "cell_type": "markdown",
   "id": "4c8715ee",
   "metadata": {},
   "source": [
    "## Part One: Speech to text"
   ]
  },
  {
   "cell_type": "code",
   "execution_count": 15,
   "id": "aea54a56",
   "metadata": {},
   "outputs": [],
   "source": [
    "# You will need the following library \n",
    "# !pip install ibm_watson wget"
   ]
  },
  {
   "cell_type": "markdown",
   "id": "63ba0d82",
   "metadata": {},
   "source": [
    "<p>First we import <code>SpeechToTextV1</code> from <code>ibm_watson</code>.\n",
    "    For more information on the API, please click on this <a href=\"https://cloud.ibm.com/apidocs/speech-to-text?code=python\">link</a></p>"
   ]
  },
  {
   "cell_type": "code",
   "execution_count": 16,
   "id": "dc920634",
   "metadata": {},
   "outputs": [],
   "source": [
    "# import neccesary libraries\n",
    "from ibm_watson import SpeechToTextV1 \n",
    "import json\n",
    "from ibm_cloud_sdk_core.authenticators import IAMAuthenticator"
   ]
  },
  {
   "cell_type": "code",
   "execution_count": 17,
   "id": "a597f7aa",
   "metadata": {},
   "outputs": [],
   "source": [
    "# Get the url for connection to the API\n",
    "#url_s2t = \"https://stream.watsonplatform.net/speech-to-text/api\"\n",
    "url_s2t = \"https://api.eu-gb.speech-to-text.watson.cloud.ibm.com/instances/1dd55cf6-415d-464b-af5d-a850e74a9b1d\""
   ]
  },
  {
   "cell_type": "markdown",
   "id": "9f54fd0a",
   "metadata": {},
   "source": [
    "<p>We require an API key, and you can obtain the key from IBM <a href=\"https://cloud.ibm.com/resources\">Dashboard </a>.</p>"
   ]
  },
  {
   "cell_type": "code",
   "execution_count": 20,
   "id": "2b33a941",
   "metadata": {},
   "outputs": [],
   "source": [
    "# Generate a key for connecting to the service\n",
    "iam_apikey_s2t = \"pL288A3ygAN6BT5AdKmuzYUwJUQIDUYWMeO5gzkzD_ZZ\""
   ]
  },
  {
   "cell_type": "markdown",
   "id": "529f4dc4",
   "metadata": {},
   "source": [
    "<p>We create a <a href=\"http://watson-developer-cloud.github.io/python-sdk/v0.25.0/apis/watson_developer_cloud.speech_to_text_v1.html\">Speech To Text Adapter object</a> the parameters are the  endpoint and API key.</p>"
   ]
  },
  {
   "cell_type": "code",
   "execution_count": 21,
   "id": "df3b2cf4",
   "metadata": {},
   "outputs": [
    {
     "data": {
      "text/plain": [
       "<ibm_watson.speech_to_text_v1_adapter.SpeechToTextV1Adapter at 0x13f4b6d0640>"
      ]
     },
     "execution_count": 21,
     "metadata": {},
     "output_type": "execute_result"
    }
   ],
   "source": [
    "# Create speech to text adapter object with parameters\n",
    "authenticator = IAMAuthenticator(iam_apikey_s2t)\n",
    "s2t = SpeechToTextV1(authenticator=authenticator)\n",
    "s2t.set_service_url(url_s2t)\n",
    "s2t"
   ]
  },
  {
   "cell_type": "markdown",
   "id": "c3713c87",
   "metadata": {},
   "source": [
    "We use selenium and Chrome webdriver to download our audio file\n",
    "<p>NB you have to download <a href=\"https://chromedriver.chromium.org/downloads\"> chrome webdriver </a> for your browser version and add the path to your chrome driver file location into your code .</p>"
   ]
  },
  {
   "cell_type": "code",
   "execution_count": 22,
   "id": "aead3313",
   "metadata": {},
   "outputs": [],
   "source": [
    "# Install selenium\n",
    "# !pip install selenium\n",
    "#set chrome driver path\n",
    "# please, note the backwards slash\n",
    "driver_path = \"C:\\\\Users\\\\GEOSB\\\\chromedriver\\\\chromedriver\\\\chromedriver.exe\""
   ]
  },
  {
   "cell_type": "code",
   "execution_count": 25,
   "id": "3491fcf7",
   "metadata": {},
   "outputs": [
    {
     "name": "stderr",
     "output_type": "stream",
     "text": [
      "C:\\Users\\GEOSB\\AppData\\Local\\Temp\\ipykernel_21828\\3125841898.py:13: DeprecationWarning: executable_path has been deprecated, please pass in a Service object\n",
      "  driver = webdriver.Chrome(executable_path = driver_path, options=c)\n"
     ]
    }
   ],
   "source": [
    "# import our liberaries for handling file download\n",
    "from selenium import webdriver\n",
    "from selenium.webdriver.support.ui import WebDriverWait\n",
    "from selenium.webdriver.support import expected_conditions as EC\n",
    "from selenium.webdriver.common.by import By\n",
    "import time\n",
    "\n",
    "#object of ChromeOptions class\n",
    "c = webdriver.ChromeOptions()\n",
    "#incognito parameter passed\n",
    "c.add_argument(\"--incognito\")\n",
    "#set chromodriver.exe path\n",
    "driver = webdriver.Chrome(executable_path = driver_path, options=c)\n",
    "# specify implicit wait time\n",
    "driver.implicitly_wait(0.5)\n",
    "#launch URL\n",
    "driver.get('https://starfrosch.com/hot-111/royalty-free-music/speech')\n",
    "# set the process to sleep for 10 seconds\n",
    "time.sleep(10)\n",
    "# set the audio file download button as xpath\n",
    "# NB the web site uses java script that modeify's returned results\n",
    "# so you may download a different audio file\n",
    "# You could as well get the new xpath for the audio\n",
    "s = driver.find_element(\"xpath\", '//*[@id=\"row-5\"]/div/div[5]/div[1]/div')\n",
    "# click on the download button\n",
    "driver.execute_script(\"arguments[0].click();\",s)\n",
    "driver.quit()"
   ]
  },
  {
   "cell_type": "code",
   "execution_count": 17,
   "id": "e2736462",
   "metadata": {},
   "outputs": [
    {
     "data": {
      "text/plain": [
       "('PolynomialRegressionandPipelines.mp3',\n",
       " <http.client.HTTPMessage at 0x24350a3c6a0>)"
      ]
     },
     "execution_count": 17,
     "metadata": {},
     "output_type": "execute_result"
    }
   ],
   "source": [
    "# import urllib.request\n",
    "#url = 'https://s3-api.us-geo.objectstorage.softlayer.net/cf-courses-data/CognitiveClass/PY0101EN/labs/PolynomialRegressionandPipelines.mp3'\n",
    "# filename = 'ia_podcast_015.mp3'\n",
    "# urllib.request.urlretrieve(url, filename)"
   ]
  },
  {
   "cell_type": "markdown",
   "id": "80a74c36",
   "metadata": {},
   "source": [
    "<p>We create the file object <code>wav</code> with the wav file using  <code>open</code> ; we set the <code>mode</code> to  \"rb\" ,  this is similar to read mode, but it ensures the file is in binary mode.We use the method <code>recognize</code> to return the recognized text. The parameter audio is the file object <code>wav</code>, the parameter <code>content_type</code> is the format of the audio file.</p>"
   ]
  },
  {
   "cell_type": "code",
   "execution_count": 26,
   "id": "299f0926",
   "metadata": {},
   "outputs": [],
   "source": [
    "import urllib.request\n",
    "\n",
    "filename = 'ia_podcast_015.mp3'\n",
    "with open(filename, mode=\"rb\")  as wav:\n",
    "    response = s2t.recognize(audio=wav, content_type='audio/mp3')"
   ]
  },
  {
   "cell_type": "code",
   "execution_count": 27,
   "id": "c728c7dc",
   "metadata": {},
   "outputs": [
    {
     "data": {
      "text/plain": [
       "{'result_index': 0,\n",
       " 'results': [{'final': True,\n",
       "   'alternatives': [{'transcript': 'what was the score the goal not to overcook deacon Michael bole so what you speak enough to me that there is little room ',\n",
       "     'confidence': 0.29}]},\n",
       "  {'final': True,\n",
       "   'alternatives': [{'transcript': \"they don't have a clue about Donald dean of all \",\n",
       "     'confidence': 0.38}]},\n",
       "  {'final': True,\n",
       "   'alternatives': [{'transcript': 'Menzel to show what they can they do call me back on the menu that would be great okay yes ',\n",
       "     'confidence': 0.41}]},\n",
       "  {'final': True,\n",
       "   'alternatives': [{'transcript': 'by the single source on all the way up into like audible colonial P. hello hello so ',\n",
       "     'confidence': 0.42}]},\n",
       "  {'final': True,\n",
       "   'alternatives': [{'transcript': \"more microphones you'll likely the typical what it owns he offering the most close to your city get into like tears stinging not Scott did you wanna OBG taught school no one approached kena Mahabharata looks good to me and the U. I. component dole months culture the Canadian library not to \",\n",
       "     'confidence': 0.48}]},\n",
       "  {'final': True,\n",
       "   'alternatives': [{'transcript': 'the free stuff at Disney feature in on my own %HESITATION it too for the from the technical by nineteen not data model showing stuff on G. U. a component of the scandal ',\n",
       "     'confidence': 0.52}]},\n",
       "  {'final': True,\n",
       "   'alternatives': [{'transcript': 'I did do my final group project to not show again constructed sorgen Dawson interactivity a C. channel guy anymore George Stephanopoulos %HESITATION whatever one you want to know good book you have a point of contact and I was reminded them of the distance to the to the fullest of Netflix does not title data a day ',\n",
       "     'confidence': 0.51}]},\n",
       "  {'final': True,\n",
       "   'alternatives': [{'transcript': 'this is going to settle for more data binders targeted to should be scheduled ',\n",
       "     'confidence': 0.34}]},\n",
       "  {'final': True,\n",
       "   'alternatives': [{'transcript': 'given the final conflict for the kind of dilemma you like on point additional regional only joke I know I stay from modeling Littleton at that you just need to focus on each ticket ',\n",
       "     'confidence': 0.44}]},\n",
       "  {'final': True,\n",
       "   'alternatives': [{'transcript': 'quizzical project for school today your data model to student dies for the full set in on a package headed to give country up ',\n",
       "     'confidence': 0.44}]},\n",
       "  {'final': True,\n",
       "   'alternatives': [{'transcript': \"I believe the school please not feeling comfortable so crews could remove a World War two some city good how are you thanks so much for staying there hello under more normal the specialist then that'll happen free they still provide a model coupled with the with the %HESITATION city getting a lot of people \",\n",
       "     'confidence': 0.4}]},\n",
       "  {'final': True,\n",
       "   'alternatives': [{'transcript': 'W. as in all right but I dont open ',\n",
       "     'confidence': 0.2}]},\n",
       "  {'final': True,\n",
       "   'alternatives': [{'transcript': \"the city are up at the station this what it is I would either do nothing you know but I'm kind of doing it who is the local \",\n",
       "     'confidence': 0.43}]},\n",
       "  {'final': True,\n",
       "   'alternatives': [{'transcript': \"so say mommy did my you easier you know someone's going to pop out the animal Kong I did for the homeless \",\n",
       "     'confidence': 0.36}]},\n",
       "  {'final': True,\n",
       "   'alternatives': [{'transcript': \"who's next caller got thirty nine point directivity did this woman came up with him thanks a lot I look at it \",\n",
       "     'confidence': 0.29}]},\n",
       "  {'final': True,\n",
       "   'alternatives': [{'transcript': 'approval from %HESITATION ',\n",
       "     'confidence': 0.49}]},\n",
       "  {'final': True,\n",
       "   'alternatives': [{'transcript': 'take a box of stuff that I deal with them with coca ',\n",
       "     'confidence': 0.45}]},\n",
       "  {'final': True,\n",
       "   'alternatives': [{'transcript': \"about the book almost intercepted you're free to open an attempted to distil critics will take a closer look at fifteen twenty seven okay cool and all \",\n",
       "     'confidence': 0.3}]},\n",
       "  {'final': True,\n",
       "   'alternatives': [{'transcript': 'for the range of him that sat on a day to discuss content on the lot but like the small ',\n",
       "     'confidence': 0.48}]},\n",
       "  {'final': True,\n",
       "   'alternatives': [{'transcript': 'mentor Modica who %HESITATION monthly mentoring with a kind that is the only skill ',\n",
       "     'confidence': 0.35}]},\n",
       "  {'final': True,\n",
       "   'alternatives': [{'transcript': \"through the use of plastic and metal can you assume all mental model of software to Somalia %HESITATION it's going right to the modem and then for the short film so far the month month domain close second class discussion on to them \",\n",
       "     'confidence': 0.37}]},\n",
       "  {'final': True,\n",
       "   'alternatives': [{'transcript': \"not a big deal %HESITATION username internally with the system within Kaplan accidentally skipped over so you can limit the light doesn't \",\n",
       "     'confidence': 0.42}]},\n",
       "  {'final': True,\n",
       "   'alternatives': [{'transcript': 'social phenomena I used to like to cook book asserts coca C. took when I have a look at it and I did a couple dhinaca ready to look at look at all these extra to stay online since you already took the kids out of that do you comply that Einstein ',\n",
       "     'confidence': 0.37}]},\n",
       "  {'final': True,\n",
       "   'alternatives': [{'transcript': \"the so called alt I don't think us and them civil government to make a stop talking to hold on the key to remove the fifty Bucks yes continue from the school conducted at the continuing to even with a stick yeah \",\n",
       "     'confidence': 0.42}]},\n",
       "  {'final': True,\n",
       "   'alternatives': [{'transcript': \"current user interface do you wanna go somewhere %HESITATION could try taking a seat the couple talked about and then cut that they should look at the schedule simplistic interface do you know that calm checks go to look at the the Brooklyn where you could send that to the commercial I'm hosting you don't I don't \",\n",
       "     'confidence': 0.39}]},\n",
       "  {'final': True,\n",
       "   'alternatives': [{'transcript': \"thirty one months legal good good aggressiveness he kinda did a cockatiel dating and then let's look at some of the kind that that family on it do you like to stay in the hearts of the one day when a personal I'm a holistic dental does look good okay cool and all the other day and wonderful Mike this is Mike Tyson the user interface design the putting them down on the question of what the \",\n",
       "     'confidence': 0.42}]},\n",
       "  {'final': True,\n",
       "   'alternatives': [{'transcript': \"so we're going to get a laugh no to to get this done today you'll see this your whole no closer to come with the Saudis that activity coming out of that I think the number of the model number coming to me more than anything that we need to take up to one full of clothes going to Canadian Latin \",\n",
       "     'confidence': 0.34}]},\n",
       "  {'final': True,\n",
       "   'alternatives': [{'transcript': 'user interface okay so interests not a full thank you think I constantly ',\n",
       "     'confidence': 0.35}]},\n",
       "  {'final': True,\n",
       "   'alternatives': [{'transcript': \"that's a lot of them in a difficult and critical could you most typed you thought mocked him got me system should have thought this would be can I got a lot of what is going to touch the for the heat from the terminal put down to the fifty K. state that popping up you can check out without the need for you some of the local that's fine it'll taste it's not active okay skill \",\n",
       "     'confidence': 0.42}]},\n",
       "  {'final': True,\n",
       "   'alternatives': [{'transcript': \"make a quick to talk up the get up the dose of what can one day thanks for calling me a casting of Clinton with an idea to patterns associated with them one of them was almost in the user interface this is just another fifty thirty days do you know about a plan that's not a city clean cut that in half the pool and the deck I did come up nothing that good for me okay I guess I have some assistance \",\n",
       "     'confidence': 0.42}]},\n",
       "  {'final': True,\n",
       "   'alternatives': [{'transcript': '%HESITATION ', 'confidence': 0.97}]},\n",
       "  {'final': True,\n",
       "   'alternatives': [{'transcript': \"what this is going to be when you go to most of them are you know I did I do this a little bit too yes I know you've got another one but I can only be what they got and they found it difficult to get a ticket to get it going this is what I got you %HESITATION \",\n",
       "     'confidence': 0.5}]},\n",
       "  {'final': True,\n",
       "   'alternatives': [{'transcript': 'all the items in question Connie June little knit sodium cocooning silence confirm telling ',\n",
       "     'confidence': 0.41}]},\n",
       "  {'final': True,\n",
       "   'alternatives': [{'transcript': 'I mean this is the third ',\n",
       "     'confidence': 0.53}]},\n",
       "  {'final': True,\n",
       "   'alternatives': [{'transcript': \"both vehicles ended up in a few days ago it looks like an eagle doing I thought that was a good goal another one %HESITATION this is the ticket or give us your ticket it could go is available is not going to do I'm going what the hold up my minimum in a minute long minimizing the muscle took this on the whole on the screen number within government of student athletes in the government elected one of the phone companies that would be something for me he must deliver the letter to the editor \",\n",
       "     'confidence': 0.41}]},\n",
       "  {'final': True,\n",
       "   'alternatives': [{'transcript': 'it was very good ', 'confidence': 0.56}]},\n",
       "  {'final': True,\n",
       "   'alternatives': [{'transcript': 'all fifty not to go through our ',\n",
       "     'confidence': 0.51}]},\n",
       "  {'final': True,\n",
       "   'alternatives': [{'transcript': \"they were not eligible for the docking of the data that you move show for the mobile medical do this this and this comes as a slew me doing this for a long first the first kicked out of the conflict the casino now I don't have any claimant they've got to look at your dates to a political religious again through the terminal %HESITATION \",\n",
       "     'confidence': 0.42}]},\n",
       "  {'final': True,\n",
       "   'alternatives': [{'transcript': 'school to stay in place with the monitoring is headed to one this year ',\n",
       "     'confidence': 0.21}]},\n",
       "  {'final': True,\n",
       "   'alternatives': [{'transcript': \"this put in a personal according to system of national Grand Canyon doing tough if you've gotten a quote from bush sticking nine thirty seven AM where you didn't win the connected on them also know someone on that bus and all going into \",\n",
       "     'confidence': 0.45}]},\n",
       "  {'final': True,\n",
       "   'alternatives': [{'transcript': 'then in June %HESITATION took a dim view from the dining room I could you look at the look at the personal ',\n",
       "     'confidence': 0.28}]},\n",
       "  {'final': True,\n",
       "   'alternatives': [{'transcript': \"model code that that newborn okay accrue to feud Compton didn't tell me this after the tone so you know that there was a lot a lot of money to to go separate systems you'll phone me boiling okay and because of the timing yes we definitely feel that gonna claiming that \",\n",
       "     'confidence': 0.41}]},\n",
       "  {'final': True,\n",
       "   'alternatives': [{'transcript': 'this little fiddle taking my system a decking needs to consider thought they were from the coach him off shore for that day could you discuss the type the little **** decided to put the coding that into life ',\n",
       "     'confidence': 0.4}]}]}"
      ]
     },
     "execution_count": 27,
     "metadata": {},
     "output_type": "execute_result"
    }
   ],
   "source": [
    "# We view our resulting response in json format\n",
    "# Notice that it converted the Japannese language to its english equivalent\n",
    "response.result"
   ]
  },
  {
   "cell_type": "markdown",
   "id": "b540b0e2",
   "metadata": {},
   "source": [
    "We use the json normalize function to normalize our json result file"
   ]
  },
  {
   "cell_type": "code",
   "execution_count": 29,
   "id": "31ddd13a",
   "metadata": {},
   "outputs": [
    {
     "name": "stderr",
     "output_type": "stream",
     "text": [
      "C:\\Users\\GEOSB\\AppData\\Local\\Temp\\ipykernel_21828\\1989541011.py:4: FutureWarning: pandas.io.json.json_normalize is deprecated, use pandas.json_normalize instead.\n",
      "  json_normalize(response.result['results'],\"alternatives\")\n"
     ]
    },
    {
     "data": {
      "text/html": [
       "<div>\n",
       "<style scoped>\n",
       "    .dataframe tbody tr th:only-of-type {\n",
       "        vertical-align: middle;\n",
       "    }\n",
       "\n",
       "    .dataframe tbody tr th {\n",
       "        vertical-align: top;\n",
       "    }\n",
       "\n",
       "    .dataframe thead th {\n",
       "        text-align: right;\n",
       "    }\n",
       "</style>\n",
       "<table border=\"1\" class=\"dataframe\">\n",
       "  <thead>\n",
       "    <tr style=\"text-align: right;\">\n",
       "      <th></th>\n",
       "      <th>transcript</th>\n",
       "      <th>confidence</th>\n",
       "    </tr>\n",
       "  </thead>\n",
       "  <tbody>\n",
       "    <tr>\n",
       "      <th>0</th>\n",
       "      <td>what was the score the goal not to overcook de...</td>\n",
       "      <td>0.29</td>\n",
       "    </tr>\n",
       "    <tr>\n",
       "      <th>1</th>\n",
       "      <td>they don't have a clue about Donald dean of all</td>\n",
       "      <td>0.38</td>\n",
       "    </tr>\n",
       "    <tr>\n",
       "      <th>2</th>\n",
       "      <td>Menzel to show what they can they do call me b...</td>\n",
       "      <td>0.41</td>\n",
       "    </tr>\n",
       "    <tr>\n",
       "      <th>3</th>\n",
       "      <td>by the single source on all the way up into li...</td>\n",
       "      <td>0.42</td>\n",
       "    </tr>\n",
       "    <tr>\n",
       "      <th>4</th>\n",
       "      <td>more microphones you'll likely the typical wha...</td>\n",
       "      <td>0.48</td>\n",
       "    </tr>\n",
       "    <tr>\n",
       "      <th>5</th>\n",
       "      <td>the free stuff at Disney feature in on my own ...</td>\n",
       "      <td>0.52</td>\n",
       "    </tr>\n",
       "    <tr>\n",
       "      <th>6</th>\n",
       "      <td>I did do my final group project to not show ag...</td>\n",
       "      <td>0.51</td>\n",
       "    </tr>\n",
       "    <tr>\n",
       "      <th>7</th>\n",
       "      <td>this is going to settle for more data binders ...</td>\n",
       "      <td>0.34</td>\n",
       "    </tr>\n",
       "    <tr>\n",
       "      <th>8</th>\n",
       "      <td>given the final conflict for the kind of dilem...</td>\n",
       "      <td>0.44</td>\n",
       "    </tr>\n",
       "    <tr>\n",
       "      <th>9</th>\n",
       "      <td>quizzical project for school today your data m...</td>\n",
       "      <td>0.44</td>\n",
       "    </tr>\n",
       "    <tr>\n",
       "      <th>10</th>\n",
       "      <td>I believe the school please not feeling comfor...</td>\n",
       "      <td>0.40</td>\n",
       "    </tr>\n",
       "    <tr>\n",
       "      <th>11</th>\n",
       "      <td>W. as in all right but I dont open</td>\n",
       "      <td>0.20</td>\n",
       "    </tr>\n",
       "    <tr>\n",
       "      <th>12</th>\n",
       "      <td>the city are up at the station this what it is...</td>\n",
       "      <td>0.43</td>\n",
       "    </tr>\n",
       "    <tr>\n",
       "      <th>13</th>\n",
       "      <td>so say mommy did my you easier you know someon...</td>\n",
       "      <td>0.36</td>\n",
       "    </tr>\n",
       "    <tr>\n",
       "      <th>14</th>\n",
       "      <td>who's next caller got thirty nine point direct...</td>\n",
       "      <td>0.29</td>\n",
       "    </tr>\n",
       "    <tr>\n",
       "      <th>15</th>\n",
       "      <td>approval from %HESITATION</td>\n",
       "      <td>0.49</td>\n",
       "    </tr>\n",
       "    <tr>\n",
       "      <th>16</th>\n",
       "      <td>take a box of stuff that I deal with them with...</td>\n",
       "      <td>0.45</td>\n",
       "    </tr>\n",
       "    <tr>\n",
       "      <th>17</th>\n",
       "      <td>about the book almost intercepted you're free ...</td>\n",
       "      <td>0.30</td>\n",
       "    </tr>\n",
       "    <tr>\n",
       "      <th>18</th>\n",
       "      <td>for the range of him that sat on a day to disc...</td>\n",
       "      <td>0.48</td>\n",
       "    </tr>\n",
       "    <tr>\n",
       "      <th>19</th>\n",
       "      <td>mentor Modica who %HESITATION monthly mentorin...</td>\n",
       "      <td>0.35</td>\n",
       "    </tr>\n",
       "    <tr>\n",
       "      <th>20</th>\n",
       "      <td>through the use of plastic and metal can you a...</td>\n",
       "      <td>0.37</td>\n",
       "    </tr>\n",
       "    <tr>\n",
       "      <th>21</th>\n",
       "      <td>not a big deal %HESITATION username internally...</td>\n",
       "      <td>0.42</td>\n",
       "    </tr>\n",
       "    <tr>\n",
       "      <th>22</th>\n",
       "      <td>social phenomena I used to like to cook book a...</td>\n",
       "      <td>0.37</td>\n",
       "    </tr>\n",
       "    <tr>\n",
       "      <th>23</th>\n",
       "      <td>the so called alt I don't think us and them ci...</td>\n",
       "      <td>0.42</td>\n",
       "    </tr>\n",
       "    <tr>\n",
       "      <th>24</th>\n",
       "      <td>current user interface do you wanna go somewhe...</td>\n",
       "      <td>0.39</td>\n",
       "    </tr>\n",
       "    <tr>\n",
       "      <th>25</th>\n",
       "      <td>thirty one months legal good good aggressivene...</td>\n",
       "      <td>0.42</td>\n",
       "    </tr>\n",
       "    <tr>\n",
       "      <th>26</th>\n",
       "      <td>so we're going to get a laugh no to to get thi...</td>\n",
       "      <td>0.34</td>\n",
       "    </tr>\n",
       "    <tr>\n",
       "      <th>27</th>\n",
       "      <td>user interface okay so interests not a full th...</td>\n",
       "      <td>0.35</td>\n",
       "    </tr>\n",
       "    <tr>\n",
       "      <th>28</th>\n",
       "      <td>that's a lot of them in a difficult and critic...</td>\n",
       "      <td>0.42</td>\n",
       "    </tr>\n",
       "    <tr>\n",
       "      <th>29</th>\n",
       "      <td>make a quick to talk up the get up the dose of...</td>\n",
       "      <td>0.42</td>\n",
       "    </tr>\n",
       "    <tr>\n",
       "      <th>30</th>\n",
       "      <td>%HESITATION</td>\n",
       "      <td>0.97</td>\n",
       "    </tr>\n",
       "    <tr>\n",
       "      <th>31</th>\n",
       "      <td>what this is going to be when you go to most o...</td>\n",
       "      <td>0.50</td>\n",
       "    </tr>\n",
       "    <tr>\n",
       "      <th>32</th>\n",
       "      <td>all the items in question Connie June little k...</td>\n",
       "      <td>0.41</td>\n",
       "    </tr>\n",
       "    <tr>\n",
       "      <th>33</th>\n",
       "      <td>I mean this is the third</td>\n",
       "      <td>0.53</td>\n",
       "    </tr>\n",
       "    <tr>\n",
       "      <th>34</th>\n",
       "      <td>both vehicles ended up in a few days ago it lo...</td>\n",
       "      <td>0.41</td>\n",
       "    </tr>\n",
       "    <tr>\n",
       "      <th>35</th>\n",
       "      <td>it was very good</td>\n",
       "      <td>0.56</td>\n",
       "    </tr>\n",
       "    <tr>\n",
       "      <th>36</th>\n",
       "      <td>all fifty not to go through our</td>\n",
       "      <td>0.51</td>\n",
       "    </tr>\n",
       "    <tr>\n",
       "      <th>37</th>\n",
       "      <td>they were not eligible for the docking of the ...</td>\n",
       "      <td>0.42</td>\n",
       "    </tr>\n",
       "    <tr>\n",
       "      <th>38</th>\n",
       "      <td>school to stay in place with the monitoring is...</td>\n",
       "      <td>0.21</td>\n",
       "    </tr>\n",
       "    <tr>\n",
       "      <th>39</th>\n",
       "      <td>this put in a personal according to system of ...</td>\n",
       "      <td>0.45</td>\n",
       "    </tr>\n",
       "    <tr>\n",
       "      <th>40</th>\n",
       "      <td>then in June %HESITATION took a dim view from ...</td>\n",
       "      <td>0.28</td>\n",
       "    </tr>\n",
       "    <tr>\n",
       "      <th>41</th>\n",
       "      <td>model code that that newborn okay accrue to fe...</td>\n",
       "      <td>0.41</td>\n",
       "    </tr>\n",
       "    <tr>\n",
       "      <th>42</th>\n",
       "      <td>this little fiddle taking my system a decking ...</td>\n",
       "      <td>0.40</td>\n",
       "    </tr>\n",
       "  </tbody>\n",
       "</table>\n",
       "</div>"
      ],
      "text/plain": [
       "                                           transcript  confidence\n",
       "0   what was the score the goal not to overcook de...        0.29\n",
       "1    they don't have a clue about Donald dean of all         0.38\n",
       "2   Menzel to show what they can they do call me b...        0.41\n",
       "3   by the single source on all the way up into li...        0.42\n",
       "4   more microphones you'll likely the typical wha...        0.48\n",
       "5   the free stuff at Disney feature in on my own ...        0.52\n",
       "6   I did do my final group project to not show ag...        0.51\n",
       "7   this is going to settle for more data binders ...        0.34\n",
       "8   given the final conflict for the kind of dilem...        0.44\n",
       "9   quizzical project for school today your data m...        0.44\n",
       "10  I believe the school please not feeling comfor...        0.40\n",
       "11                W. as in all right but I dont open         0.20\n",
       "12  the city are up at the station this what it is...        0.43\n",
       "13  so say mommy did my you easier you know someon...        0.36\n",
       "14  who's next caller got thirty nine point direct...        0.29\n",
       "15                         approval from %HESITATION         0.49\n",
       "16  take a box of stuff that I deal with them with...        0.45\n",
       "17  about the book almost intercepted you're free ...        0.30\n",
       "18  for the range of him that sat on a day to disc...        0.48\n",
       "19  mentor Modica who %HESITATION monthly mentorin...        0.35\n",
       "20  through the use of plastic and metal can you a...        0.37\n",
       "21  not a big deal %HESITATION username internally...        0.42\n",
       "22  social phenomena I used to like to cook book a...        0.37\n",
       "23  the so called alt I don't think us and them ci...        0.42\n",
       "24  current user interface do you wanna go somewhe...        0.39\n",
       "25  thirty one months legal good good aggressivene...        0.42\n",
       "26  so we're going to get a laugh no to to get thi...        0.34\n",
       "27  user interface okay so interests not a full th...        0.35\n",
       "28  that's a lot of them in a difficult and critic...        0.42\n",
       "29  make a quick to talk up the get up the dose of...        0.42\n",
       "30                                       %HESITATION         0.97\n",
       "31  what this is going to be when you go to most o...        0.50\n",
       "32  all the items in question Connie June little k...        0.41\n",
       "33                          I mean this is the third         0.53\n",
       "34  both vehicles ended up in a few days ago it lo...        0.41\n",
       "35                                  it was very good         0.56\n",
       "36                   all fifty not to go through our         0.51\n",
       "37  they were not eligible for the docking of the ...        0.42\n",
       "38  school to stay in place with the monitoring is...        0.21\n",
       "39  this put in a personal according to system of ...        0.45\n",
       "40  then in June %HESITATION took a dim view from ...        0.28\n",
       "41  model code that that newborn okay accrue to fe...        0.41\n",
       "42  this little fiddle taking my system a decking ...        0.40"
      ]
     },
     "execution_count": 29,
     "metadata": {},
     "output_type": "execute_result"
    }
   ],
   "source": [
    "# Import json_normalize package\n",
    "from pandas.io.json import json_normalize\n",
    "\n",
    "json_normalize(response.result['results'],\"alternatives\")"
   ]
  },
  {
   "cell_type": "code",
   "execution_count": 32,
   "id": "3d4ce3cc",
   "metadata": {},
   "outputs": [
    {
     "data": {
      "text/plain": [
       "<ibm_cloud_sdk_core.detailed_response.DetailedResponse at 0x13f4a9bbd60>"
      ]
     },
     "execution_count": 32,
     "metadata": {},
     "output_type": "execute_result"
    }
   ],
   "source": [
    "response"
   ]
  },
  {
   "cell_type": "code",
   "execution_count": 33,
   "id": "d7897506",
   "metadata": {},
   "outputs": [
    {
     "data": {
      "text/plain": [
       "str"
      ]
     },
     "execution_count": 33,
     "metadata": {},
     "output_type": "execute_result"
    }
   ],
   "source": [
    "# WE could slice our json file but json normalize looks more efficient\n",
    "recognized_text=response.result['results'][0][\"alternatives\"][0][\"transcript\"]\n",
    "type(recognized_text)"
   ]
  },
  {
   "cell_type": "markdown",
   "id": "15685d1e",
   "metadata": {},
   "source": [
    "## Part Two: Language Translator"
   ]
  },
  {
   "cell_type": "markdown",
   "id": "add54ca8",
   "metadata": {},
   "source": [
    "Haven gotten our speech in text format, we could convert it to any language of our choice"
   ]
  },
  {
   "cell_type": "markdown",
   "id": "14112ab5",
   "metadata": {},
   "source": [
    "<p>First we import <code>LanguageTranslatorV3</code> from ibm_watson. For more information on the API click <a href=\"https://cloud.ibm.com/apidocs/speech-to-text?code=python\"> here</a></p>"
   ]
  },
  {
   "cell_type": "code",
   "execution_count": 35,
   "id": "dd2a5b5e",
   "metadata": {},
   "outputs": [],
   "source": [
    "# imort ibm_watson language translator\n",
    "from ibm_watson import LanguageTranslatorV3"
   ]
  },
  {
   "cell_type": "code",
   "execution_count": 36,
   "id": "63b165fd",
   "metadata": {},
   "outputs": [],
   "source": [
    "url_lt = \"https://api.eu-gb.language-translator.watson.cloud.ibm.com/instances/fa740dc9-84d8-4120-833e-287808991674\""
   ]
  },
  {
   "cell_type": "markdown",
   "id": "80137ae6",
   "metadata": {},
   "source": [
    "<p>You require an API key, and you can obtain the key on the <a href=\"https://cloud.ibm.com/resources\">Dashboard</a>.</p>"
   ]
  },
  {
   "cell_type": "code",
   "execution_count": 37,
   "id": "def8398a",
   "metadata": {},
   "outputs": [],
   "source": [
    "apikey_lt = \"H0eV6HqzNMZeArwIDMzl04lk1fqV__PFzSCaGMtT4BIu\""
   ]
  },
  {
   "cell_type": "markdown",
   "id": "18a9fe55",
   "metadata": {},
   "source": [
    "<p>API requests require a version parameter that takes a date in the format version=YYYY-MM-DD. We would use 2018-05-01 version of Language Translator</p>"
   ]
  },
  {
   "cell_type": "code",
   "execution_count": 38,
   "id": "0acdb31f",
   "metadata": {},
   "outputs": [],
   "source": [
    "version_lt='2018-05-01'"
   ]
  },
  {
   "cell_type": "markdown",
   "id": "d5fb4597",
   "metadata": {},
   "source": [
    "we create a Language Translator object \"language_translator\":"
   ]
  },
  {
   "cell_type": "code",
   "execution_count": 39,
   "id": "fa90dc8c",
   "metadata": {},
   "outputs": [
    {
     "data": {
      "text/plain": [
       "<ibm_watson.language_translator_v3.LanguageTranslatorV3 at 0x13f4b727280>"
      ]
     },
     "execution_count": 39,
     "metadata": {},
     "output_type": "execute_result"
    }
   ],
   "source": [
    "authenticator = IAMAuthenticator(apikey_lt)\n",
    "language_translator = LanguageTranslatorV3(version=version_lt,authenticator=authenticator)\n",
    "language_translator.set_service_url(url_lt)\n",
    "language_translator"
   ]
  },
  {
   "cell_type": "markdown",
   "id": "af606bb7",
   "metadata": {},
   "source": [
    "We can get a Lists of the languages that the service can identify. The method Returns the language code. For example English (en) to Spanish (es) and name of each language."
   ]
  },
  {
   "cell_type": "code",
   "execution_count": 40,
   "id": "3f93d9c4",
   "metadata": {},
   "outputs": [
    {
     "name": "stderr",
     "output_type": "stream",
     "text": [
      "C:\\Users\\GEOSB\\AppData\\Local\\Temp\\ipykernel_21828\\3347784071.py:3: FutureWarning: pandas.io.json.json_normalize is deprecated, use pandas.json_normalize instead.\n",
      "  json_normalize(language_translator.list_identifiable_languages().get_result(), \"languages\").head(50)\n"
     ]
    },
    {
     "data": {
      "text/html": [
       "<div>\n",
       "<style scoped>\n",
       "    .dataframe tbody tr th:only-of-type {\n",
       "        vertical-align: middle;\n",
       "    }\n",
       "\n",
       "    .dataframe tbody tr th {\n",
       "        vertical-align: top;\n",
       "    }\n",
       "\n",
       "    .dataframe thead th {\n",
       "        text-align: right;\n",
       "    }\n",
       "</style>\n",
       "<table border=\"1\" class=\"dataframe\">\n",
       "  <thead>\n",
       "    <tr style=\"text-align: right;\">\n",
       "      <th></th>\n",
       "      <th>language</th>\n",
       "      <th>name</th>\n",
       "    </tr>\n",
       "  </thead>\n",
       "  <tbody>\n",
       "    <tr>\n",
       "      <th>0</th>\n",
       "      <td>af</td>\n",
       "      <td>Afrikaans</td>\n",
       "    </tr>\n",
       "    <tr>\n",
       "      <th>1</th>\n",
       "      <td>ar</td>\n",
       "      <td>Arabic</td>\n",
       "    </tr>\n",
       "    <tr>\n",
       "      <th>2</th>\n",
       "      <td>az</td>\n",
       "      <td>Azerbaijani</td>\n",
       "    </tr>\n",
       "    <tr>\n",
       "      <th>3</th>\n",
       "      <td>ba</td>\n",
       "      <td>Bashkir</td>\n",
       "    </tr>\n",
       "    <tr>\n",
       "      <th>4</th>\n",
       "      <td>be</td>\n",
       "      <td>Belarusian</td>\n",
       "    </tr>\n",
       "    <tr>\n",
       "      <th>5</th>\n",
       "      <td>bg</td>\n",
       "      <td>Bulgarian</td>\n",
       "    </tr>\n",
       "    <tr>\n",
       "      <th>6</th>\n",
       "      <td>bn</td>\n",
       "      <td>Bengali</td>\n",
       "    </tr>\n",
       "    <tr>\n",
       "      <th>7</th>\n",
       "      <td>ca</td>\n",
       "      <td>Catalan</td>\n",
       "    </tr>\n",
       "    <tr>\n",
       "      <th>8</th>\n",
       "      <td>cs</td>\n",
       "      <td>Czech</td>\n",
       "    </tr>\n",
       "    <tr>\n",
       "      <th>9</th>\n",
       "      <td>cv</td>\n",
       "      <td>Chuvash</td>\n",
       "    </tr>\n",
       "    <tr>\n",
       "      <th>10</th>\n",
       "      <td>cy</td>\n",
       "      <td>Welsh</td>\n",
       "    </tr>\n",
       "    <tr>\n",
       "      <th>11</th>\n",
       "      <td>da</td>\n",
       "      <td>Danish</td>\n",
       "    </tr>\n",
       "    <tr>\n",
       "      <th>12</th>\n",
       "      <td>de</td>\n",
       "      <td>German</td>\n",
       "    </tr>\n",
       "    <tr>\n",
       "      <th>13</th>\n",
       "      <td>el</td>\n",
       "      <td>Greek</td>\n",
       "    </tr>\n",
       "    <tr>\n",
       "      <th>14</th>\n",
       "      <td>en</td>\n",
       "      <td>English</td>\n",
       "    </tr>\n",
       "    <tr>\n",
       "      <th>15</th>\n",
       "      <td>eo</td>\n",
       "      <td>Esperanto</td>\n",
       "    </tr>\n",
       "    <tr>\n",
       "      <th>16</th>\n",
       "      <td>es</td>\n",
       "      <td>Spanish</td>\n",
       "    </tr>\n",
       "    <tr>\n",
       "      <th>17</th>\n",
       "      <td>et</td>\n",
       "      <td>Estonian</td>\n",
       "    </tr>\n",
       "    <tr>\n",
       "      <th>18</th>\n",
       "      <td>eu</td>\n",
       "      <td>Basque</td>\n",
       "    </tr>\n",
       "    <tr>\n",
       "      <th>19</th>\n",
       "      <td>fa</td>\n",
       "      <td>Persian</td>\n",
       "    </tr>\n",
       "    <tr>\n",
       "      <th>20</th>\n",
       "      <td>fi</td>\n",
       "      <td>Finnish</td>\n",
       "    </tr>\n",
       "    <tr>\n",
       "      <th>21</th>\n",
       "      <td>fr</td>\n",
       "      <td>French</td>\n",
       "    </tr>\n",
       "    <tr>\n",
       "      <th>22</th>\n",
       "      <td>ga</td>\n",
       "      <td>Irish</td>\n",
       "    </tr>\n",
       "    <tr>\n",
       "      <th>23</th>\n",
       "      <td>gu</td>\n",
       "      <td>Gujarati</td>\n",
       "    </tr>\n",
       "    <tr>\n",
       "      <th>24</th>\n",
       "      <td>he</td>\n",
       "      <td>Hebrew</td>\n",
       "    </tr>\n",
       "    <tr>\n",
       "      <th>25</th>\n",
       "      <td>hi</td>\n",
       "      <td>Hindi</td>\n",
       "    </tr>\n",
       "    <tr>\n",
       "      <th>26</th>\n",
       "      <td>hr</td>\n",
       "      <td>Croatian</td>\n",
       "    </tr>\n",
       "    <tr>\n",
       "      <th>27</th>\n",
       "      <td>ht</td>\n",
       "      <td>Haitian</td>\n",
       "    </tr>\n",
       "    <tr>\n",
       "      <th>28</th>\n",
       "      <td>hu</td>\n",
       "      <td>Hungarian</td>\n",
       "    </tr>\n",
       "    <tr>\n",
       "      <th>29</th>\n",
       "      <td>hy</td>\n",
       "      <td>Armenian</td>\n",
       "    </tr>\n",
       "    <tr>\n",
       "      <th>30</th>\n",
       "      <td>is</td>\n",
       "      <td>Icelandic</td>\n",
       "    </tr>\n",
       "    <tr>\n",
       "      <th>31</th>\n",
       "      <td>it</td>\n",
       "      <td>Italian</td>\n",
       "    </tr>\n",
       "    <tr>\n",
       "      <th>32</th>\n",
       "      <td>ja</td>\n",
       "      <td>Japanese</td>\n",
       "    </tr>\n",
       "    <tr>\n",
       "      <th>33</th>\n",
       "      <td>ka</td>\n",
       "      <td>Georgian</td>\n",
       "    </tr>\n",
       "    <tr>\n",
       "      <th>34</th>\n",
       "      <td>kk</td>\n",
       "      <td>Kazakh</td>\n",
       "    </tr>\n",
       "    <tr>\n",
       "      <th>35</th>\n",
       "      <td>km</td>\n",
       "      <td>Central Khmer</td>\n",
       "    </tr>\n",
       "    <tr>\n",
       "      <th>36</th>\n",
       "      <td>ko</td>\n",
       "      <td>Korean</td>\n",
       "    </tr>\n",
       "    <tr>\n",
       "      <th>37</th>\n",
       "      <td>ku</td>\n",
       "      <td>Kurdish</td>\n",
       "    </tr>\n",
       "    <tr>\n",
       "      <th>38</th>\n",
       "      <td>ky</td>\n",
       "      <td>Kirghiz</td>\n",
       "    </tr>\n",
       "    <tr>\n",
       "      <th>39</th>\n",
       "      <td>lo</td>\n",
       "      <td>Lao</td>\n",
       "    </tr>\n",
       "    <tr>\n",
       "      <th>40</th>\n",
       "      <td>lt</td>\n",
       "      <td>Lithuanian</td>\n",
       "    </tr>\n",
       "    <tr>\n",
       "      <th>41</th>\n",
       "      <td>lv</td>\n",
       "      <td>Latvian</td>\n",
       "    </tr>\n",
       "    <tr>\n",
       "      <th>42</th>\n",
       "      <td>ml</td>\n",
       "      <td>Malayalam</td>\n",
       "    </tr>\n",
       "    <tr>\n",
       "      <th>43</th>\n",
       "      <td>mn</td>\n",
       "      <td>Mongolian</td>\n",
       "    </tr>\n",
       "    <tr>\n",
       "      <th>44</th>\n",
       "      <td>mr</td>\n",
       "      <td>Marathi</td>\n",
       "    </tr>\n",
       "    <tr>\n",
       "      <th>45</th>\n",
       "      <td>ms</td>\n",
       "      <td>Malay</td>\n",
       "    </tr>\n",
       "    <tr>\n",
       "      <th>46</th>\n",
       "      <td>mt</td>\n",
       "      <td>Maltese</td>\n",
       "    </tr>\n",
       "    <tr>\n",
       "      <th>47</th>\n",
       "      <td>my</td>\n",
       "      <td>Burmese</td>\n",
       "    </tr>\n",
       "    <tr>\n",
       "      <th>48</th>\n",
       "      <td>nb</td>\n",
       "      <td>Norwegian Bokmal</td>\n",
       "    </tr>\n",
       "    <tr>\n",
       "      <th>49</th>\n",
       "      <td>ne</td>\n",
       "      <td>Nepali</td>\n",
       "    </tr>\n",
       "  </tbody>\n",
       "</table>\n",
       "</div>"
      ],
      "text/plain": [
       "   language              name\n",
       "0        af         Afrikaans\n",
       "1        ar            Arabic\n",
       "2        az       Azerbaijani\n",
       "3        ba           Bashkir\n",
       "4        be        Belarusian\n",
       "5        bg         Bulgarian\n",
       "6        bn           Bengali\n",
       "7        ca           Catalan\n",
       "8        cs             Czech\n",
       "9        cv           Chuvash\n",
       "10       cy             Welsh\n",
       "11       da            Danish\n",
       "12       de            German\n",
       "13       el             Greek\n",
       "14       en           English\n",
       "15       eo         Esperanto\n",
       "16       es           Spanish\n",
       "17       et          Estonian\n",
       "18       eu            Basque\n",
       "19       fa           Persian\n",
       "20       fi           Finnish\n",
       "21       fr            French\n",
       "22       ga             Irish\n",
       "23       gu          Gujarati\n",
       "24       he            Hebrew\n",
       "25       hi             Hindi\n",
       "26       hr          Croatian\n",
       "27       ht           Haitian\n",
       "28       hu         Hungarian\n",
       "29       hy          Armenian\n",
       "30       is         Icelandic\n",
       "31       it           Italian\n",
       "32       ja          Japanese\n",
       "33       ka          Georgian\n",
       "34       kk            Kazakh\n",
       "35       km     Central Khmer\n",
       "36       ko            Korean\n",
       "37       ku           Kurdish\n",
       "38       ky           Kirghiz\n",
       "39       lo               Lao\n",
       "40       lt        Lithuanian\n",
       "41       lv           Latvian\n",
       "42       ml         Malayalam\n",
       "43       mn         Mongolian\n",
       "44       mr           Marathi\n",
       "45       ms             Malay\n",
       "46       mt           Maltese\n",
       "47       my           Burmese\n",
       "48       nb  Norwegian Bokmal\n",
       "49       ne            Nepali"
      ]
     },
     "execution_count": 40,
     "metadata": {},
     "output_type": "execute_result"
    }
   ],
   "source": [
    "from pandas.io.json import json_normalize\n",
    "\n",
    "json_normalize(language_translator.list_identifiable_languages().get_result(), \"languages\").head(50)"
   ]
  },
  {
   "cell_type": "markdown",
   "id": "281dc1b3",
   "metadata": {},
   "source": [
    "We can use the method \"translate()\" this will translate the text. The parameter text is the text. Model_id is the type of model we would like to use from our list of languages . In this case, we set it to 'en-es' or English to Spanish 'en-es'. We get a Detailed Response object translation_response"
   ]
  },
  {
   "cell_type": "code",
   "execution_count": 44,
   "id": "21c49242",
   "metadata": {},
   "outputs": [
    {
     "data": {
      "text/plain": [
       "<ibm_cloud_sdk_core.detailed_response.DetailedResponse at 0x13f4b727460>"
      ]
     },
     "execution_count": 44,
     "metadata": {},
     "output_type": "execute_result"
    }
   ],
   "source": [
    "translation_response = language_translator.translate(text=recognized_text, model_id='en-es')\n",
    "translation_response"
   ]
  },
  {
   "cell_type": "markdown",
   "id": "d16c67d8",
   "metadata": {},
   "source": [
    "We get response which is a dictionary"
   ]
  },
  {
   "cell_type": "code",
   "execution_count": 45,
   "id": "8e0ecc01",
   "metadata": {},
   "outputs": [
    {
     "data": {
      "text/plain": [
       "{'translations': [{'translation': '¿Cuál fue el objetivo de no sobrecocinar el diácono Michael bole para que lo que usted me habla lo suficiente a mí que hay poco espacio '}],\n",
       " 'word_count': 24,\n",
       " 'character_count': 121}"
      ]
     },
     "execution_count": 45,
     "metadata": {},
     "output_type": "execute_result"
    }
   ],
   "source": [
    "translation=translation_response.get_result()\n",
    "translation"
   ]
  },
  {
   "cell_type": "markdown",
   "id": "03a78dbe",
   "metadata": {},
   "source": [
    "we can get the string from the dictionary as follows:"
   ]
  },
  {
   "cell_type": "code",
   "execution_count": 46,
   "id": "92609879",
   "metadata": {},
   "outputs": [
    {
     "data": {
      "text/plain": [
       "'¿Cuál fue el objetivo de no sobrecocinar el diácono Michael bole para que lo que usted me habla lo suficiente a mí que hay poco espacio '"
      ]
     },
     "execution_count": 46,
     "metadata": {},
     "output_type": "execute_result"
    }
   ],
   "source": [
    "spanish_translation =translation['translations'][0]['translation']\n",
    "spanish_translation "
   ]
  },
  {
   "cell_type": "markdown",
   "id": "d80bbfa3",
   "metadata": {},
   "source": [
    "We can translate back to English"
   ]
  },
  {
   "cell_type": "code",
   "execution_count": 47,
   "id": "b174c14b",
   "metadata": {},
   "outputs": [],
   "source": [
    "translation_new = language_translator.translate(text=spanish_translation ,model_id='es-en').get_result()"
   ]
  },
  {
   "cell_type": "markdown",
   "id": "a488b387",
   "metadata": {},
   "source": [
    "We can obtain the actual translation as a string as follows:"
   ]
  },
  {
   "cell_type": "code",
   "execution_count": 48,
   "id": "61766613",
   "metadata": {},
   "outputs": [
    {
     "data": {
      "text/plain": [
       "'What was the goal not to overcook deacon Michael bole so that what you speak to me enough to me that there is little space '"
      ]
     },
     "execution_count": 48,
     "metadata": {},
     "output_type": "execute_result"
    }
   ],
   "source": [
    "translation_eng=translation_new['translations'][0]['translation']\n",
    "translation_eng"
   ]
  },
  {
   "cell_type": "markdown",
   "id": "3dff8d9c",
   "metadata": {},
   "source": [
    "We can convert it to French as well:"
   ]
  },
  {
   "cell_type": "code",
   "execution_count": 49,
   "id": "7607b17f",
   "metadata": {},
   "outputs": [
    {
     "data": {
      "text/plain": [
       "\"Quel était l'objectif de ne pas surcuire le diacre Michael bole pour que ce que vous me pariez assez pour moi qu'il y ait peu d'espace \""
      ]
     },
     "execution_count": 49,
     "metadata": {},
     "output_type": "execute_result"
    }
   ],
   "source": [
    "French_translation=language_translator.translate(text=translation_eng , model_id='en-fr').get_result()\n",
    "French_translation['translations'][0]['translation']"
   ]
  },
  {
   "cell_type": "markdown",
   "id": "d13b5754",
   "metadata": {},
   "source": [
    "We can convert it to Japanese"
   ]
  },
  {
   "cell_type": "code",
   "execution_count": 50,
   "id": "bf639f20",
   "metadata": {},
   "outputs": [
    {
     "data": {
      "text/plain": [
       "'マイケル・ボレーはダイコンを作りすぎるのではなく空間がほとんどないということを私に教えてくれました '"
      ]
     },
     "execution_count": 50,
     "metadata": {},
     "output_type": "execute_result"
    }
   ],
   "source": [
    "Japan_translation=language_translator.translate(text=translation_eng , model_id='en-ja').get_result()\n",
    "Japan_translation['translations'][0]['translation']"
   ]
  },
  {
   "cell_type": "markdown",
   "id": "1dabc2fa",
   "metadata": {},
   "source": [
    "## Summary:\n",
    "    We learnt how to use selenium to download an audio file from a web site \n",
    "    we used IBM Watson speech-to-text API to convert speech in Japan language to english\n",
    "    then we used the IBM language translator to translate our result between japanese, Spanish, French and English languages"
   ]
  }
 ],
 "metadata": {
  "kernelspec": {
   "display_name": "Python 3 (ipykernel)",
   "language": "python",
   "name": "python3"
  },
  "language_info": {
   "codemirror_mode": {
    "name": "ipython",
    "version": 3
   },
   "file_extension": ".py",
   "mimetype": "text/x-python",
   "name": "python",
   "nbconvert_exporter": "python",
   "pygments_lexer": "ipython3",
   "version": "3.9.12"
  }
 },
 "nbformat": 4,
 "nbformat_minor": 5
}
